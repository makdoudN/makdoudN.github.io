{
 "cells": [
  {
   "cell_type": "markdown",
   "metadata": {},
   "source": [
    "# Information Gain Asymptotically\n",
    "\n",
    "Imagine we have some prior set of beliefs summarized as a probability distribution $q$. In light of some kind of evidence, we update our beliefs to a new distribution $p$. How much did we update our beliefs? \n",
    "\n",
    "The gap between $q$ and $p$ is called **Information Gain** $I[p ; q]$. \n",
    "\n",
    "What properties the Information Gain should Have ?\n",
    "\n",
    "- https://blog.alexalemi.com/kl.html\n",
    "\n",
    "1. The function $I[p ; q]$ is continuous in both arguments.\n",
    "\n",
    "A small change in the distributions makes a small change in the amount of information in the move.\n",
    "\n",
    "Ok, first stop here but what does it means for a probability distribution to change \"smally\". \n"
   ]
  },
  {
   "cell_type": "markdown",
   "metadata": {},
   "source": [
    "Suppose you have two discrete probability distributions $p$ and $p^{\\prime}$ over the same finite space $\\mathcal{X}=$ $\\left\\{x_1, \\ldots, x_n\\right\\}$\n",
    "\n",
    "**Pointwise Convergence**\n",
    "\n",
    "You say $p_n \\rightarrow p$ pointwise if for all $x \\in \\mathcal{X}$ :\n",
    "\n",
    "$$\n",
    "\\lim _{n \\rightarrow \\infty} p_n(x)=p(x)\n",
    "$$\n",
    "\n",
    "\n",
    "This is an element-by-element convergence. Each probability assigned to a point gradually shifts toward the target.\n",
    "Easy to understand.\n",
    "Not strong enough to guarantee everything (e.g., integrals over $p_n$ may not behave well).\n",
    "\n",
    "Total Variation Distance\n",
    "This is a metric that quantifies how different two probability distributions are.\n",
    "For discrete distributions:\n",
    "\n",
    "$$\n",
    "\\operatorname{TV}(p, q)=\\frac{1}{2} \\sum_{x \\in \\mathcal{X}}|p(x)-q(x)|\n",
    "$$\n",
    "\n",
    "\n",
    "Think of it as the maximum probability mass that needs to be shifted to turn $p$ into $q$.\n",
    "- $\\operatorname{TV}(p, q)=0 \\Longleftrightarrow p=q$\n",
    "- $\\operatorname{TV}(p, q)=1$ means the supports are disjoint\n",
    "\n",
    "Stronger than pointwise convergence\n",
    "Guarantees convergence of expectations:\n",
    "If $\\operatorname{TV}\\left(p_n, p\\right) \\rightarrow 0$, then for any bounded measurable function $f$,\n",
    "\n",
    "$$\n",
    "\\left|\\mathbb{E}_{p_n}[f]-\\mathbb{E}_p[f]\\right| \\rightarrow 0\n",
    "$$\n"
   ]
  }
 ],
 "metadata": {
  "language_info": {
   "name": "python"
  }
 },
 "nbformat": 4,
 "nbformat_minor": 2
}
