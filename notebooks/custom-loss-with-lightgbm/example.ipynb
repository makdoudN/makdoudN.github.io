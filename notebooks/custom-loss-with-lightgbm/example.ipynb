{
 "cells": [
  {
   "cell_type": "code",
   "execution_count": 6,
   "metadata": {},
   "outputs": [],
   "source": [
    "import numpy as np\n",
    "import lightgbm as lgb\n",
    "from scipy.optimize import minimize_scalar\n",
    "from sklearn.datasets import make_classification\n",
    "from sklearn.model_selection import train_test_split\n"
   ]
  },
  {
   "cell_type": "markdown",
   "metadata": {},
   "source": [
    "1. LightGBM's default init_score (implicitly chosen).\n",
    "2. Empirical formula: $F_0=\\log \\left(\\frac{\\bar{y}}{1-\\bar{y}}\\right)$\n",
    "3. Numerical minimizer: Solve\n",
    "\n",
    "$$\n",
    "\\min _\\zeta \\sum_{i=1}^n\\left[-y_i \\log \\sigma(\\zeta)-\\left(1-y_i\\right) \\log (1-\\sigma(\\zeta))\\right]\n",
    "$$\n"
   ]
  },
  {
   "cell_type": "code",
   "execution_count": 7,
   "metadata": {},
   "outputs": [],
   "source": [
    "# Generate binary classification dataset\n",
    "X, y = make_classification(n_samples=500, weights=[0.3], random_state=42)"
   ]
  },
  {
   "cell_type": "code",
   "execution_count": 8,
   "metadata": {},
   "outputs": [],
   "source": [
    "# Empirical class proportion\n",
    "p = y.mean()\n",
    "\n",
    "# 1. Closed-form (log-odds)\n",
    "F0_formula = np.log(p / (1 - p))"
   ]
  },
  {
   "cell_type": "code",
   "execution_count": 9,
   "metadata": {},
   "outputs": [],
   "source": [
    "# 2. Numerical minimization of log-loss for constant prediction\n",
    "def constant_logloss(z):\n",
    "    sigmoid = 1 / (1 + np.exp(-z))\n",
    "    return -np.sum(y * np.log(sigmoid) + (1 - y) * np.log(1 - sigmoid))\n",
    "\n",
    "F0_numeric = minimize_scalar(constant_logloss).x"
   ]
  },
  {
   "cell_type": "code",
   "execution_count": 10,
   "metadata": {},
   "outputs": [
    {
     "data": {
      "text/plain": [
       "np.float64(0.8188868585544236)"
      ]
     },
     "execution_count": 10,
     "metadata": {},
     "output_type": "execute_result"
    }
   ],
   "source": [
    "F0_formula"
   ]
  },
  {
   "cell_type": "code",
   "execution_count": 11,
   "metadata": {},
   "outputs": [
    {
     "data": {
      "text/plain": [
       "np.float64(0.8188868871945704)"
      ]
     },
     "execution_count": 11,
     "metadata": {},
     "output_type": "execute_result"
    }
   ],
   "source": [
    "F0_numeric"
   ]
  },
  {
   "cell_type": "code",
   "execution_count": null,
   "metadata": {},
   "outputs": [],
   "source": []
  }
 ],
 "metadata": {
  "kernelspec": {
   "display_name": ".venv",
   "language": "python",
   "name": "python3"
  },
  "language_info": {
   "codemirror_mode": {
    "name": "ipython",
    "version": 3
   },
   "file_extension": ".py",
   "mimetype": "text/x-python",
   "name": "python",
   "nbconvert_exporter": "python",
   "pygments_lexer": "ipython3",
   "version": "3.12.5"
  }
 },
 "nbformat": 4,
 "nbformat_minor": 2
}
