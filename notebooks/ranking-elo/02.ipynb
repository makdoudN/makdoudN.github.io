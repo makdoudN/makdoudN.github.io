{
 "cells": [
  {
   "cell_type": "code",
   "execution_count": 1,
   "metadata": {},
   "outputs": [
    {
     "data": {
      "text/plain": [
       "np.float64(0.48886397328433284)"
      ]
     },
     "execution_count": 1,
     "metadata": {},
     "output_type": "execute_result"
    }
   ],
   "source": [
    "import numpy as np\n",
    "from scipy.stats import norm\n",
    "from scipy.optimize import minimize\n",
    "import networkx as nx\n",
    "\n",
    "class TrueSkillGraph:\n",
    "    def __init__(self, graph, beta=1.0):\n",
    "        self.graph = graph\n",
    "        self.n_players = len(graph.nodes)\n",
    "        self.beta = beta\n",
    "        self.skills = np.zeros(self.n_players)\n",
    "\n",
    "    def _log_posterior(self, skills, outcomes):\n",
    "        L = nx.laplacian_matrix(self.graph).toarray()\n",
    "        smoothness = -0.5 * skills @ L @ skills\n",
    "        \n",
    "        # Compute outcome likelihood\n",
    "        i, j, y = outcomes[:, 0], outcomes[:, 1], outcomes[:, 2]\n",
    "        skill_diff = skills[i] - skills[j]\n",
    "        prob = norm.cdf(skill_diff / (np.sqrt(2) * self.beta))\n",
    "        prob = np.clip(prob, 1e-10, 1 - 1e-10)\n",
    "        \n",
    "        log_likelihood = y * np.log(prob) + (1 - y) * np.log(1 - prob)\n",
    "        return -(smoothness + np.sum(log_likelihood))\n",
    "    \n",
    "    def fit(self, outcomes):\n",
    "        result = minimize(\n",
    "            self._log_posterior,\n",
    "            self.skills,\n",
    "            args=(outcomes,),\n",
    "            method='L-BFGS-B'\n",
    "        )\n",
    "        if result.success:\n",
    "            self.skills = result.x\n",
    "        else:\n",
    "            raise RuntimeError(\"Optimization failed: \" + result.message)\n",
    "\n",
    "    def predict_prob(self, i, j):\n",
    "        skill_diff = self.skills[i] - self.skills[j]\n",
    "        return norm.cdf(skill_diff / (np.sqrt(2) * self.beta))\n",
    "\n",
    "# Example:\n",
    "G = nx.Graph()\n",
    "G.add_edges_from([(0, 1), (0, 2), (1, 3), (2, 3), (3, 4)])\n",
    "\n",
    "outcomes = np.array([\n",
    "    [0, 1, 1], # player 0 beats player 1\n",
    "    [2, 3, 0], # player 3 beats player 2\n",
    "    [1, 3, 1], # player 1 beats player 3\n",
    "    [0, 4, 0]  # player 4 beats player 0\n",
    "])\n",
    "\n",
    "model = TrueSkillGraph(G)\n",
    "model.fit(outcomes)\n",
    "\n",
    "# Predict win probability\n",
    "model.predict_prob(0, 1)"
   ]
  },
  {
   "cell_type": "code",
   "execution_count": null,
   "metadata": {},
   "outputs": [],
   "source": []
  }
 ],
 "metadata": {
  "kernelspec": {
   "display_name": ".venv",
   "language": "python",
   "name": "python3"
  },
  "language_info": {
   "codemirror_mode": {
    "name": "ipython",
    "version": 3
   },
   "file_extension": ".py",
   "mimetype": "text/x-python",
   "name": "python",
   "nbconvert_exporter": "python",
   "pygments_lexer": "ipython3",
   "version": "3.12.5"
  }
 },
 "nbformat": 4,
 "nbformat_minor": 2
}
