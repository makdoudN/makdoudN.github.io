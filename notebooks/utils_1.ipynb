{
 "cells": [
  {
   "cell_type": "code",
   "execution_count": 1,
   "metadata": {},
   "outputs": [
    {
     "name": "stdout",
     "output_type": "stream",
     "text": [
      "Gradient in LaTeX format:\n",
      "\\left[\\begin{matrix}2 x + 3 y\\\\3 x + 2 y\\end{matrix}\\right]\n"
     ]
    }
   ],
   "source": [
    "from sympy import symbols, diff, Matrix, latex, simplify\n",
    "\n",
    "# Define symbolic variables\n",
    "x, y = symbols('x y')\n",
    "\n",
    "# Define a function (e.g., f(x,y) = x^2 + 3xy + y^2)\n",
    "f = x**2 + 3*x*y + y**2\n",
    "\n",
    "# Calculate the gradient components\n",
    "grad_x = diff(f, x)  # Partial derivative with respect to x\n",
    "grad_y = diff(f, y)  # Partial derivative with respect to y\n",
    "\n",
    "# Simplify the components (optional, in this case they're already simple)\n",
    "grad_x_simp = simplify(grad_x)\n",
    "grad_y_simp = simplify(grad_y)\n",
    "\n",
    "# Create gradient vector\n",
    "gradient = Matrix([grad_x_simp, grad_y_simp])\n",
    "\n",
    "# Convert to LaTeX\n",
    "gradient_latex = latex(gradient)\n",
    "\n",
    "print(\"Gradient in LaTeX format:\")\n",
    "print(gradient_latex)"
   ]
  },
  {
   "cell_type": "code",
   "execution_count": 2,
   "metadata": {},
   "outputs": [
    {
     "data": {
      "text/latex": [
       "$\\displaystyle \\left[\\begin{matrix}2 x + 3 y\\\\3 x + 2 y\\end{matrix}\\right]$"
      ],
      "text/plain": [
       "<IPython.core.display.Math object>"
      ]
     },
     "metadata": {},
     "output_type": "display_data"
    }
   ],
   "source": [
    "from IPython.display import display, Math\n",
    "\n",
    "display(Math(gradient_latex))"
   ]
  },
  {
   "cell_type": "code",
   "execution_count": null,
   "metadata": {},
   "outputs": [],
   "source": []
  }
 ],
 "metadata": {
  "kernelspec": {
   "display_name": ".venv",
   "language": "python",
   "name": "python3"
  },
  "language_info": {
   "codemirror_mode": {
    "name": "ipython",
    "version": 3
   },
   "file_extension": ".py",
   "mimetype": "text/x-python",
   "name": "python",
   "nbconvert_exporter": "python",
   "pygments_lexer": "ipython3",
   "version": "3.12.5"
  }
 },
 "nbformat": 4,
 "nbformat_minor": 2
}
